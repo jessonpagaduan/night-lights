{
 "cells": [
  {
   "cell_type": "markdown",
   "metadata": {},
   "source": [
    "# Regional economic dynamics, nighttime lights, and land cover: Insights from dimly lit islands"
   ]
  },
  {
   "cell_type": "markdown",
   "metadata": {},
   "source": [
    "## Install Packages"
   ]
  },
  {
   "cell_type": "code",
   "execution_count": 1,
   "metadata": {},
   "outputs": [],
   "source": [
    "import pandas as pd\n",
    "# import geopandas as gpd\n",
    "import numpy as np\n",
    "from matplotlib import pyplot as plt\n",
    "import seaborn as sns\n",
    "from pandasgui import show"
   ]
  },
  {
   "cell_type": "markdown",
   "metadata": {},
   "source": [
    "## Preliminaries"
   ]
  },
  {
   "cell_type": "code",
   "execution_count": 2,
   "metadata": {},
   "outputs": [],
   "source": [
    "# Set path\n",
    "path = \"/Users/Jesson Pagaduan/Google Drive/Geospatial_Project/\""
   ]
  },
  {
   "cell_type": "markdown",
   "metadata": {},
   "source": [
    "## Batangas GDP by city/municipality from NTL"
   ]
  },
  {
   "cell_type": "code",
   "execution_count": 44,
   "metadata": {},
   "outputs": [],
   "source": [
    "df_ntl_city = pd.read_excel(path + \"data/scratch/NTL_2000-2018_PHL_municipal.xlsx\", index_col=False,\n",
    "                            usecols=['YEAR', 'GID_1', 'NAME_1', 'NAME_2', 'COUNT', 'AREA', 'SUM'], \n",
    "                            parse_dates=['YEAR'])\n",
    "df_ntl_city.columns = [i.lower() for i in df_ntl_city.columns]"
   ]
  },
  {
   "cell_type": "code",
   "execution_count": 45,
   "metadata": {},
   "outputs": [],
   "source": [
    "df_ntl_city.columns = ['year', 'prov_id', 'province', 'city', 'city_count', 'city_area', 'city_ntl']"
   ]
  },
  {
   "cell_type": "code",
   "execution_count": 46,
   "metadata": {},
   "outputs": [
    {
     "data": {
      "text/html": [
       "<div>\n",
       "<style scoped>\n",
       "    .dataframe tbody tr th:only-of-type {\n",
       "        vertical-align: middle;\n",
       "    }\n",
       "\n",
       "    .dataframe tbody tr th {\n",
       "        vertical-align: top;\n",
       "    }\n",
       "\n",
       "    .dataframe thead th {\n",
       "        text-align: right;\n",
       "    }\n",
       "</style>\n",
       "<table border=\"1\" class=\"dataframe\">\n",
       "  <thead>\n",
       "    <tr style=\"text-align: right;\">\n",
       "      <th></th>\n",
       "      <th>year</th>\n",
       "      <th>prov_id</th>\n",
       "      <th>province</th>\n",
       "      <th>city</th>\n",
       "      <th>city_count</th>\n",
       "      <th>city_area</th>\n",
       "      <th>city_ntl</th>\n",
       "    </tr>\n",
       "  </thead>\n",
       "  <tbody>\n",
       "    <tr>\n",
       "      <th>0</th>\n",
       "      <td>2000-01-01</td>\n",
       "      <td>PHL.1_1</td>\n",
       "      <td>Abra</td>\n",
       "      <td>Bangued</td>\n",
       "      <td>521</td>\n",
       "      <td>0.010511</td>\n",
       "      <td>0.00</td>\n",
       "    </tr>\n",
       "    <tr>\n",
       "      <th>1</th>\n",
       "      <td>2000-01-01</td>\n",
       "      <td>PHL.1_1</td>\n",
       "      <td>Abra</td>\n",
       "      <td>Boliney</td>\n",
       "      <td>783</td>\n",
       "      <td>0.015796</td>\n",
       "      <td>0.00</td>\n",
       "    </tr>\n",
       "    <tr>\n",
       "      <th>2</th>\n",
       "      <td>2000-01-01</td>\n",
       "      <td>PHL.1_1</td>\n",
       "      <td>Abra</td>\n",
       "      <td>Bucay</td>\n",
       "      <td>436</td>\n",
       "      <td>0.008796</td>\n",
       "      <td>0.00</td>\n",
       "    </tr>\n",
       "    <tr>\n",
       "      <th>3</th>\n",
       "      <td>2000-01-01</td>\n",
       "      <td>PHL.1_1</td>\n",
       "      <td>Abra</td>\n",
       "      <td>Bucloc</td>\n",
       "      <td>214</td>\n",
       "      <td>0.004317</td>\n",
       "      <td>0.00</td>\n",
       "    </tr>\n",
       "    <tr>\n",
       "      <th>4</th>\n",
       "      <td>2000-01-01</td>\n",
       "      <td>PHL.1_1</td>\n",
       "      <td>Abra</td>\n",
       "      <td>Daguioman</td>\n",
       "      <td>412</td>\n",
       "      <td>0.008312</td>\n",
       "      <td>0.00</td>\n",
       "    </tr>\n",
       "    <tr>\n",
       "      <th>...</th>\n",
       "      <td>...</td>\n",
       "      <td>...</td>\n",
       "      <td>...</td>\n",
       "      <td>...</td>\n",
       "      <td>...</td>\n",
       "      <td>...</td>\n",
       "      <td>...</td>\n",
       "    </tr>\n",
       "    <tr>\n",
       "      <th>31288</th>\n",
       "      <td>2018-01-01</td>\n",
       "      <td>PHL.81_1</td>\n",
       "      <td>Zamboanga Sibugay</td>\n",
       "      <td>Roseller Lim</td>\n",
       "      <td>1109</td>\n",
       "      <td>0.022373</td>\n",
       "      <td>13.52</td>\n",
       "    </tr>\n",
       "    <tr>\n",
       "      <th>31289</th>\n",
       "      <td>2018-01-01</td>\n",
       "      <td>PHL.81_1</td>\n",
       "      <td>Zamboanga Sibugay</td>\n",
       "      <td>Siay</td>\n",
       "      <td>759</td>\n",
       "      <td>0.015312</td>\n",
       "      <td>8.41</td>\n",
       "    </tr>\n",
       "    <tr>\n",
       "      <th>31290</th>\n",
       "      <td>2018-01-01</td>\n",
       "      <td>PHL.81_1</td>\n",
       "      <td>Zamboanga Sibugay</td>\n",
       "      <td>Talusan</td>\n",
       "      <td>206</td>\n",
       "      <td>0.004156</td>\n",
       "      <td>0.00</td>\n",
       "    </tr>\n",
       "    <tr>\n",
       "      <th>31291</th>\n",
       "      <td>2018-01-01</td>\n",
       "      <td>PHL.81_1</td>\n",
       "      <td>Zamboanga Sibugay</td>\n",
       "      <td>Titay</td>\n",
       "      <td>720</td>\n",
       "      <td>0.014525</td>\n",
       "      <td>5.15</td>\n",
       "    </tr>\n",
       "    <tr>\n",
       "      <th>31292</th>\n",
       "      <td>2018-01-01</td>\n",
       "      <td>PHL.81_1</td>\n",
       "      <td>Zamboanga Sibugay</td>\n",
       "      <td>Tungawan</td>\n",
       "      <td>1785</td>\n",
       "      <td>0.036011</td>\n",
       "      <td>0.00</td>\n",
       "    </tr>\n",
       "  </tbody>\n",
       "</table>\n",
       "<p>31293 rows × 7 columns</p>\n",
       "</div>"
      ],
      "text/plain": [
       "            year   prov_id           province          city  city_count  \\\n",
       "0     2000-01-01   PHL.1_1               Abra       Bangued         521   \n",
       "1     2000-01-01   PHL.1_1               Abra       Boliney         783   \n",
       "2     2000-01-01   PHL.1_1               Abra         Bucay         436   \n",
       "3     2000-01-01   PHL.1_1               Abra        Bucloc         214   \n",
       "4     2000-01-01   PHL.1_1               Abra     Daguioman         412   \n",
       "...          ...       ...                ...           ...         ...   \n",
       "31288 2018-01-01  PHL.81_1  Zamboanga Sibugay  Roseller Lim        1109   \n",
       "31289 2018-01-01  PHL.81_1  Zamboanga Sibugay          Siay         759   \n",
       "31290 2018-01-01  PHL.81_1  Zamboanga Sibugay       Talusan         206   \n",
       "31291 2018-01-01  PHL.81_1  Zamboanga Sibugay         Titay         720   \n",
       "31292 2018-01-01  PHL.81_1  Zamboanga Sibugay      Tungawan        1785   \n",
       "\n",
       "       city_area  city_ntl  \n",
       "0       0.010511      0.00  \n",
       "1       0.015796      0.00  \n",
       "2       0.008796      0.00  \n",
       "3       0.004317      0.00  \n",
       "4       0.008312      0.00  \n",
       "...          ...       ...  \n",
       "31288   0.022373     13.52  \n",
       "31289   0.015312      8.41  \n",
       "31290   0.004156      0.00  \n",
       "31291   0.014525      5.15  \n",
       "31292   0.036011      0.00  \n",
       "\n",
       "[31293 rows x 7 columns]"
      ]
     },
     "execution_count": 46,
     "metadata": {},
     "output_type": "execute_result"
    }
   ],
   "source": [
    "df_ntl_city"
   ]
  },
  {
   "cell_type": "code",
   "execution_count": 47,
   "metadata": {},
   "outputs": [],
   "source": [
    "df_city_gdp = df_ntl_city.set_index(['province', 'year']).join(pd.read_excel('province-gdp.xlsx').set_index(['province', 'year']), rsuffix='_r')"
   ]
  },
  {
   "cell_type": "code",
   "execution_count": 33,
   "metadata": {},
   "outputs": [
    {
     "data": {
      "text/plain": [
       "<pandasgui.gui.PandasGui at 0x270a71d7d30>"
      ]
     },
     "execution_count": 33,
     "metadata": {},
     "output_type": "execute_result"
    }
   ],
   "source": [
    "show(df_city_gdp)"
   ]
  },
  {
   "cell_type": "code",
   "execution_count": 48,
   "metadata": {},
   "outputs": [],
   "source": [
    "df_city_gdp = df_city_gdp.reset_index().set_index(['city', 'year'])"
   ]
  },
  {
   "cell_type": "code",
   "execution_count": 49,
   "metadata": {},
   "outputs": [],
   "source": [
    "df_city_gdp = df_city_gdp.assign(city_ntl_share = lambda x: x.city_ntl / x.prov_ntl,\n",
    "                                 log_ind_p1_c = lambda x: x.log_ind_p1 * x.city_ntl_share,\n",
    "                                 log_ind_p2_c = lambda x: x.log_ind_p2 * x.city_ntl_share,\n",
    "                                 log_svc_p1_c = lambda x: x.log_svc_p1 * x.city_ntl_share,\n",
    "                                 log_svc_p2_c = lambda x: x.log_svc_p2 * x.city_ntl_share,\n",
    "                                 log_non_agr_p1_c = lambda x: x.log_non_agr_p1 * x.city_ntl_share,\n",
    "                                 log_non_agr_p2_c = lambda x: x.log_non_agr_p2 * x.city_ntl_share)"
   ]
  },
  {
   "cell_type": "code",
   "execution_count": 50,
   "metadata": {},
   "outputs": [],
   "source": [
    "df_city_gdp.reset_index().to_excel('city-gdp.xlsx', index=False)"
   ]
  },
  {
   "cell_type": "code",
   "execution_count": 51,
   "metadata": {},
   "outputs": [],
   "source": [
    "df_city_gdp_gr = df_city_gdp[['city_count', 'city_ntl', 'city_ntl_share',\n",
    "                              'log_ind_p1_c', 'log_ind_p2_c', 'log_svc_p1_c', 'log_svc_p2_c',\n",
    "                              'log_non_agr_p1_c', 'log_non_agr_p2_c']].diff() * 100"
   ]
  },
  {
   "cell_type": "code",
   "execution_count": 52,
   "metadata": {},
   "outputs": [],
   "source": [
    "df_city_gdp_gr = df_city_gdp.join(df_city_gdp_gr, rsuffix='_gr')"
   ]
  },
  {
   "cell_type": "code",
   "execution_count": 54,
   "metadata": {},
   "outputs": [],
   "source": [
    "df_city_gdp_gr.reset_index().to_excel('city-gdp-gr.xlsx', index=False)"
   ]
  },
  {
   "cell_type": "code",
   "execution_count": null,
   "metadata": {},
   "outputs": [],
   "source": []
  }
 ],
 "metadata": {
  "kernelspec": {
   "display_name": "Python 3",
   "language": "python",
   "name": "python3"
  },
  "language_info": {
   "codemirror_mode": {
    "name": "ipython",
    "version": 3
   },
   "file_extension": ".py",
   "mimetype": "text/x-python",
   "name": "python",
   "nbconvert_exporter": "python",
   "pygments_lexer": "ipython3",
   "version": "3.8.5"
  }
 },
 "nbformat": 4,
 "nbformat_minor": 4
}
