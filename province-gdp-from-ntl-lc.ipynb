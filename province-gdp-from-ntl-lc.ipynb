{
 "cells": [
  {
   "cell_type": "markdown",
   "metadata": {},
   "source": [
    "# Measuring province-level GDP using nighttime lights, net primary productivity, and land cover"
   ]
  },
  {
   "cell_type": "markdown",
   "metadata": {},
   "source": [
    "## Install Packages"
   ]
  },
  {
   "cell_type": "code",
   "execution_count": 1,
   "metadata": {},
   "outputs": [],
   "source": [
    "import pandas as pd\n",
    "# import geopandas as gpd\n",
    "import numpy as np\n",
    "from matplotlib import pyplot as plt\n",
    "import seaborn as sns\n",
    "from pandasgui import show"
   ]
  },
  {
   "cell_type": "markdown",
   "metadata": {
    "heading_collapsed": true
   },
   "source": [
    "## Preliminaries"
   ]
  },
  {
   "cell_type": "code",
   "execution_count": 2,
   "metadata": {
    "hidden": true
   },
   "outputs": [],
   "source": [
    "# Set path\n",
    "path = \"/Users/Jesson Pagaduan/Google Drive/Geospatial_Project/\""
   ]
  },
  {
   "cell_type": "markdown",
   "metadata": {
    "heading_collapsed": true
   },
   "source": [
    "## Non-agri GDP by province from NTL"
   ]
  },
  {
   "cell_type": "code",
   "execution_count": 80,
   "metadata": {
    "hidden": true
   },
   "outputs": [],
   "source": [
    "# Export NTL series at the province level\n",
    "df_ntl_prov = pd.read_csv(path + \"data/scratch/NTL_2000-2018_PHL_province_21Apr.csv\", index_col=False,\n",
    "                          usecols=['YEAR', 'NAME_1', 'ZONE_CODE', 'COUNT', 'SUM'], \n",
    "                          parse_dates=['YEAR'])\n",
    "df_ntl_prov.columns = [i.lower() for i in df_ntl_prov.columns]\n",
    "\n",
    "# Create a region column\n",
    "df_ntl_prov['region'] = ''\n",
    "\n",
    "# Create region placeholders\n",
    "ncr = ['Metropolitan Manila']\n",
    "car = ['Abra', 'Apayao', 'Benguet', 'Ifugao', 'Kalinga', 'Mountain Province']\n",
    "region1 = ['Ilocos Norte', 'Ilocos Sur', 'La Union', 'Pangasinan']\n",
    "region2 = ['Batanes', 'Cagayan', 'Isabela', 'Nueva Vizcaya', 'Quirino']\n",
    "region3 = ['Aurora', 'Bataan', 'Bulacan', 'Nueva Ecija', 'Pampanga', 'Tarlac', 'Zambales']\n",
    "region4a = ['Batangas', 'Cavite', 'Laguna', 'Quezon', 'Rizal']\n",
    "region4b = ['Marinduque', 'Occidental Mindoro', 'Oriental Mindoro', 'Palawan', 'Romblon']\n",
    "region5 = ['Albay', 'Camarines Norte', 'Camarines Sur', 'Catanduanes', 'Masbate', 'Sorsogon']\n",
    "region6 = ['Aklan', 'Antique', 'Capiz', 'Guimaras', 'Iloilo', 'Negros Occidental']\n",
    "region7 = ['Bohol', 'Cebu', 'Negros Oriental', 'Siquijor']\n",
    "region8 = ['Biliran', 'Eastern Samar', 'Leyte', 'Northern Samar', 'Samar', 'Southern Leyte']\n",
    "region9 = ['Zamboanga del Norte', 'Zamboanga del Sur', 'Zamboanga Sibugay']\n",
    "region10 = ['Bukidnon', 'Camiguin', 'Lanao del Norte', 'Misamis Occidental', 'Misamis Oriental']\n",
    "region11 = ['Compostela Valley', 'Davao del Norte', 'Davao del Sur', 'Davao Oriental']\n",
    "region12 = ['North Cotabato', 'Sarangani', 'South Cotabato', 'Sultan Kudarat']\n",
    "region13 = ['Agusan del Norte', 'Agusan del Sur', 'Dinagat Islands', 'Surigao del Norte', 'Surigao del Sur']\n",
    "armm = ['Basilan', 'Lanao del Sur', 'Maguindanao', 'Sulu', 'Tawi-Tawi']\n",
    "\n",
    "# Assign provinces to regions\n",
    "df_ntl_prov.loc[df_ntl_prov['name_1'].isin(ncr), 'region'] = 'Metropolitan Manila'\n",
    "df_ntl_prov.loc[df_ntl_prov['name_1'].isin(car), 'region'] = 'Cordillera Administrative Region (CAR)'\n",
    "df_ntl_prov.loc[df_ntl_prov['name_1'].isin(region1), 'region'] = 'Ilocos Region (Region I)'\n",
    "df_ntl_prov.loc[df_ntl_prov['name_1'].isin(region2), 'region'] = 'Cagayan Valley (Region II)'\n",
    "df_ntl_prov.loc[df_ntl_prov['name_1'].isin(region3), 'region'] = 'Central Luzon (Region III)'\n",
    "df_ntl_prov.loc[df_ntl_prov['name_1'].isin(region4a), 'region'] = 'CALABARZON (Region IV-A)'\n",
    "df_ntl_prov.loc[df_ntl_prov['name_1'].isin(region4b), 'region'] = 'MIMAROPA (Region IV-B)'\n",
    "df_ntl_prov.loc[df_ntl_prov['name_1'].isin(region5), 'region'] = 'Bicol Region (Region V)'\n",
    "df_ntl_prov.loc[df_ntl_prov['name_1'].isin(region6), 'region'] = 'Western Visayas (Region VI)'\n",
    "df_ntl_prov.loc[df_ntl_prov['name_1'].isin(region7), 'region'] = 'Central Visayas (Region VII)'\n",
    "df_ntl_prov.loc[df_ntl_prov['name_1'].isin(region8), 'region'] = 'Eastern Visayas (Region VIII)'\n",
    "df_ntl_prov.loc[df_ntl_prov['name_1'].isin(region9), 'region'] = 'Zamboanga Peninsula (Region IX)'\n",
    "df_ntl_prov.loc[df_ntl_prov['name_1'].isin(region10), 'region'] = 'Northern Mindanao (Region X)'\n",
    "df_ntl_prov.loc[df_ntl_prov['name_1'].isin(region11), 'region'] = 'Davao Region (Region XI)'\n",
    "df_ntl_prov.loc[df_ntl_prov['name_1'].isin(region12), 'region'] = 'SOCCSKSARGEN (Region XII)'\n",
    "df_ntl_prov.loc[df_ntl_prov['name_1'].isin(region13), 'region'] = 'Caraga (Region XIII)'\n",
    "df_ntl_prov.loc[df_ntl_prov['name_1'].isin(armm), 'region'] = 'Autonomous Region of Muslim Mindanao (ARMM)'\n",
    "\n",
    "# Keep relevant columns\n",
    "df_ntl_prov = df_ntl_prov[['year', 'region', 'name_1', 'zone_code', 'count', 'sum']]\n",
    "\n",
    "# Export NTL series at the region level\n",
    "df_ntl_reg = pd.read_csv(path + \"data/scratch/data.csv\", index_col=False,\n",
    "                         usecols=['YEAR', 'REGION', 'ZONE_CODE', 'NTL_COUNT', 'NTL_SUM'], \n",
    "                         parse_dates=['YEAR'])\n",
    "df_ntl_reg.columns = [i.lower() for i in df_ntl_reg.columns]\n",
    "\n",
    "# Merge the two dataframes\n",
    "df_ntl_prov = df_ntl_reg.set_index(['region', 'year']).join(df_ntl_prov.set_index(['region', 'year']),\n",
    "                                                            rsuffix='_prov')\n",
    "df_ntl_prov.columns = ['reg_id', 'reg_count_lit', 'reg_ntl', 'province', 'prov_id', 'prov_count_lit',\n",
    "                       'prov_ntl']\n",
    "\n",
    "# Calculate province shares\n",
    "df_ntl_prov = df_ntl_prov.assign(prov_ntl_share = lambda x: x.prov_ntl / x.reg_ntl)"
   ]
  },
  {
   "cell_type": "markdown",
   "metadata": {
    "heading_collapsed": true,
    "hidden": true
   },
   "source": [
    "### Using predicted regional GDP"
   ]
  },
  {
   "cell_type": "code",
   "execution_count": 15,
   "metadata": {
    "hidden": true
   },
   "outputs": [],
   "source": [
    "# Export predicted GDP\n",
    "df_predictions = pd.read_excel(path + \"gdp_predictions.xlsx\", index_col=False,\n",
    "                               usecols=['region', 'year', 'period', 'zone_code', 'ind_ntl_top13_p1', \n",
    "                                        'svc_ntl_top13_p1', 'non_agr_ntl_top13_p1', 'ind_ntl_top13_p2',\n",
    "                                        'svc_ntl_top13_p2', 'non_agr_ntl_top13_p2'], \n",
    "                               parse_dates=['year'])\n",
    "df_predictions.columns = [i.lower() for i in df_predictions.columns]\n",
    "\n",
    "# Join the two dataframes\n",
    "df_ntl_prov = df_ntl_prov.join(df_predictions.set_index(['region', 'year']), rsuffix='_pred')\n",
    "\n",
    "# Calculate province-level non-agri GDP\n",
    "df_ntl_prov = df_ntl_prov.assign(log_ind_p1 = lambda x: x.ind_ntl_top13_p1 * x.prov_ntl_share,\n",
    "                                 log_ind_p2 = lambda x: x.ind_ntl_top13_p2 * x.prov_ntl_share,\n",
    "                                 log_svc_p1 = lambda x: x.svc_ntl_top13_p1 * x.prov_ntl_share,\n",
    "                                 log_svc_p2 = lambda x: x.svc_ntl_top13_p2 * x.prov_ntl_share,\n",
    "                                 log_non_agr_p1 = lambda x: x.non_agr_ntl_top13_p1 * x.prov_ntl_share,\n",
    "                                 log_non_agr_p2 = lambda x: x.non_agr_ntl_top13_p2 * x.prov_ntl_share)\n",
    "\n",
    "# Calculate province-level non-agri GDP growth rates\n",
    "df_ntl_prov_gr = df_ntl_prov[['province', 'prov_id', 'log_ind_p1', 'log_ind_p2', 'log_svc_p1', \n",
    "                              'log_svc_p2', 'log_non_agr_p1', \n",
    "                              'log_non_agr_p2']].groupby(by=['province', 'prov_id']).diff() * 100\n",
    "\n",
    "\n",
    "df_ntl_prov = df_ntl_prov.assign(log_ind_p1_gr = df_ntl_prov[['province', 'log_ind_p1']].groupby(by='province').diff() * 100,\n",
    "                                 log_ind_p2_gr = df_ntl_prov[['province', 'log_ind_p2']].groupby(by='province').diff() * 100,\n",
    "                                 log_svc_p1_gr = df_ntl_prov[['province', 'log_svc_p1']].groupby(by='province').diff() * 100,\n",
    "                                 log_svc_p2_gr = df_ntl_prov[['province', 'log_svc_p2']].groupby(by='province').diff() * 100,\n",
    "                                 log_non_agr_p1_gr = df_ntl_prov[['province', 'log_non_agr_p1']].groupby(by='province').diff() * 100,\n",
    "                                 log_non_agr_p2_gr = df_ntl_prov[['province', 'log_non_agr_p2']].groupby(by='province').diff() * 100)\n",
    "\n",
    "# Export to excel\n",
    "# df_ntl_prov.reset_index().to_excel('province-gdp.xlsx', index=False)\n",
    "\n",
    "# Calculate long differences\n",
    "df_longdiff = df_ntl_prov.reset_index().pivot(index=['province', 'prov_id'], columns=['year'],\n",
    "                                              values=['log_non_agr_p1', 'log_non_agr_p2']).reset_index()\n",
    "df_longdiff = df_longdiff.iloc[:, [0, 1, 2, 10, 30, 39]]\n",
    "df_longdiff.columns = ['province', 'prov_id', 'log_non_agr_gdp_2000', 'log_non_agr_gdp_2008',\n",
    "                       'log_non_agr_gdp_2009', 'log_non_agr_gdp_2018']\n",
    "df_longdiff = df_longdiff.assign(ld_non_agr_gdp_p1 = lambda x: 100 * (x.log_non_agr_gdp_2008 - x.log_non_agr_gdp_2000),\n",
    "                                 ld_non_agr_gdp_p2 = lambda x: 100 * (x.log_non_agr_gdp_2018 - x.log_non_agr_gdp_2009))\n",
    "# df_longdiff.to_csv('province-gdp-longdiff.csv', index=False)\n",
    "\n",
    "# Calculate average GDP growth\n",
    "df_ntl_avg_gr = df_ntl_prov[['province', 'log_non_agr_p1_gr']].groupby(by='province').mean().join(df_ntl_prov[['province', 'log_non_agr_p2_gr']].groupby(by='province').mean())\n",
    "df_ntl_avg_gr.reset_index(inplace=True)\n",
    "# df_ntl_avg_gr.to_csv('province-gdp-avg-gr.csv', index=False)\n",
    "\n",
    "# Create year-specific averages\n",
    "df_ntl_prov.reset_index(inplace=True)\n",
    "df_ntl_prov_2000 = df_ntl_prov[df_ntl_prov['year']=='2000-01-01']\n",
    "df_ntl_prov_2000 = df_ntl_prov_2000[['province', 'prov_id', 'log_non_agr_p1', 'log_ind_p1', 'log_svc_p1']]\n",
    "# df_ntl_prov_2000.to_csv('province-gdp-2000.csv', index=False)\n",
    "df_ntl_prov_2018 = df_ntl_prov[df_ntl_prov['year']=='2018-01-01']\n",
    "df_ntl_prov_2018 = df_ntl_prov_2018[['province', 'prov_id', 'log_non_agr_p2', 'log_ind_p2', 'log_svc_p2']]\n",
    "# df_ntl_prov_2018.to_csv('province-gdp-2018.csv', index=False)\n",
    "df_ntl_prov_2009 = df_ntl_prov[df_ntl_prov['year']=='2009-01-01']\n",
    "df_ntl_prov_2009 = df_ntl_prov_2009[['province', 'prov_id', 'log_non_agr_p2', 'log_ind_p2', 'log_svc_p2']]\n",
    "# df_ntl_prov_2009.to_csv('province-gdp-2009.csv', index=False)\n",
    "df_ntl_prov_2008 = df_ntl_prov[df_ntl_prov['year']=='2008-01-01']\n",
    "df_ntl_prov_2008 = df_ntl_prov_2008[['province', 'prov_id', 'log_non_agr_p1', 'log_ind_p1', 'log_svc_p1']]\n",
    "# df_ntl_prov_2008.to_csv('province-gdp-2008.csv', index=False)"
   ]
  },
  {
   "cell_type": "markdown",
   "metadata": {
    "heading_collapsed": true,
    "hidden": true
   },
   "source": [
    "### Using observed regional GDP"
   ]
  },
  {
   "cell_type": "code",
   "execution_count": 81,
   "metadata": {
    "hidden": true
   },
   "outputs": [],
   "source": [
    "# Export data on observed regional GDP\n",
    "df_observed_nonagr = pd.read_csv(path + \"data/scratch/data.csv\", index_col=False,\n",
    "                                 usecols=['REGION', 'YEAR', 'ZONE_CODE', 'GDP_IND', 'GDP_SVC'], \n",
    "                                 parse_dates=['YEAR'])\n",
    "df_observed_nonagr.columns = [i.lower() for i in df_observed_nonagr.columns]\n",
    "\n",
    "# Calculate non-agri GDP (industry + services)\n",
    "df_observed_nonagr = df_observed_nonagr.assign(gdp_non_agr = lambda x: x.gdp_ind + x.gdp_svc)\n",
    "df_observed_nonagr.drop(columns=['gdp_ind', 'gdp_svc'], inplace=True)\n",
    "\n",
    "# Join two dataframes\n",
    "df_gdp_nonagr_prov = df_ntl_prov.join(df_observed_nonagr.set_index(['region', 'year']))\n",
    "\n",
    "# Calculate province-level non-agri GDP based on NTL shares\n",
    "df_gdp_nonagr_prov = df_gdp_nonagr_prov.assign(gdp_nonagr_prov = lambda x: x.gdp_non_agr * x.prov_ntl_share)"
   ]
  },
  {
   "cell_type": "markdown",
   "metadata": {
    "heading_collapsed": true
   },
   "source": [
    "## Agriculture GDP by province from Land Cover"
   ]
  },
  {
   "cell_type": "code",
   "execution_count": 83,
   "metadata": {
    "hidden": true
   },
   "outputs": [],
   "source": [
    "# Export province-level land cover series\n",
    "df_lc_prov = pd.read_excel(path + \"data/scratch/LC_2001-2019_PHL_province.xlsx\", index_col=False,\n",
    "                           usecols=['YEAR', 'NAME_1', 'OBJECTID', 'VALUE_12'], \n",
    "                           parse_dates=['YEAR'])\n",
    "df_lc_prov.columns = [i.lower() for i in df_lc_prov.columns]\n",
    "\n",
    "# Create a region column\n",
    "df_lc_prov['region'] = ''\n",
    "\n",
    "# Assign provinces to respective regions\n",
    "df_lc_prov.loc[df_lc_prov['name_1'].isin(ncr), 'region'] = 'Metropolitan Manila'\n",
    "df_lc_prov.loc[df_lc_prov['name_1'].isin(car), 'region'] = 'Cordillera Administrative Region (CAR)'\n",
    "df_lc_prov.loc[df_lc_prov['name_1'].isin(region1), 'region'] = 'Ilocos Region (Region I)'\n",
    "df_lc_prov.loc[df_lc_prov['name_1'].isin(region2), 'region'] = 'Cagayan Valley (Region II)'\n",
    "df_lc_prov.loc[df_lc_prov['name_1'].isin(region3), 'region'] = 'Central Luzon (Region III)'\n",
    "df_lc_prov.loc[df_lc_prov['name_1'].isin(region4a), 'region'] = 'CALABARZON (Region IV-A)'\n",
    "df_lc_prov.loc[df_lc_prov['name_1'].isin(region4b), 'region'] = 'MIMAROPA (Region IV-B)'\n",
    "df_lc_prov.loc[df_lc_prov['name_1'].isin(region5), 'region'] = 'Bicol Region (Region V)'\n",
    "df_lc_prov.loc[df_lc_prov['name_1'].isin(region6), 'region'] = 'Western Visayas (Region VI)'\n",
    "df_lc_prov.loc[df_lc_prov['name_1'].isin(region7), 'region'] = 'Central Visayas (Region VII)'\n",
    "df_lc_prov.loc[df_lc_prov['name_1'].isin(region8), 'region'] = 'Eastern Visayas (Region VIII)'\n",
    "df_lc_prov.loc[df_lc_prov['name_1'].isin(region9), 'region'] = 'Zamboanga Peninsula (Region IX)'\n",
    "df_lc_prov.loc[df_lc_prov['name_1'].isin(region10), 'region'] = 'Northern Mindanao (Region X)'\n",
    "df_lc_prov.loc[df_lc_prov['name_1'].isin(region11), 'region'] = 'Davao Region (Region XI)'\n",
    "df_lc_prov.loc[df_lc_prov['name_1'].isin(region12), 'region'] = 'SOCCSKSARGEN (Region XII)'\n",
    "df_lc_prov.loc[df_lc_prov['name_1'].isin(region13), 'region'] = 'Caraga (Region XIII)'\n",
    "df_lc_prov.loc[df_lc_prov['name_1'].isin(armm), 'region'] = 'Autonomous Region of Muslim Mindanao (ARMM)'\n",
    "\n",
    "# Keep relevant columns only\n",
    "df_lc_prov = df_lc_prov[['year', 'region', 'name_1', 'objectid', 'value_12']]\n",
    "\n",
    "# Export region-level land cover series\n",
    "df_lc_reg = pd.read_csv(path + \"data/scratch/data.csv\", index_col=False,\n",
    "                        usecols=['YEAR', 'REGION', 'ZONE_CODE', 'LC_C12'], \n",
    "                        parse_dates=['YEAR'])\n",
    "df_lc_reg.columns = [i.lower() for i in df_lc_reg.columns]\n",
    "\n",
    "# Join the two dataframes\n",
    "df_lc_prov = df_lc_reg.set_index(['region', 'year']).join(df_lc_prov.set_index(['region', 'year']),\n",
    "                                                          rsuffix='_prov')\n",
    "\n",
    "# Rename columns\n",
    "df_lc_prov.columns = ['reg_code', 'croplands_reg', 'province', 'prov_code', 'croplands_prov']\n",
    "\n",
    "# Calculate province's croplands share\n",
    "df_lc_prov = df_lc_prov.assign(prov_lc_share = lambda x: x.croplands_prov / x.croplands_reg)"
   ]
  },
  {
   "cell_type": "markdown",
   "metadata": {
    "hidden": true
   },
   "source": [
    "### Using predicted regional GDP"
   ]
  },
  {
   "cell_type": "code",
   "execution_count": 71,
   "metadata": {
    "hidden": true
   },
   "outputs": [],
   "source": [
    "# Export predicted regional agri-GDP\n",
    "df_agr_predictions = pd.read_excel(path + \"ntl_predictions_26Apr.xls\", index_col=False,\n",
    "                               usecols=['region', 'year', 'period', 'zone_code', \n",
    "                                        'agr_c1012_top12c12_p1', 'agr_c1012_top12c12_p2'], \n",
    "                               parse_dates=['year'])\n",
    "df_agr_predictions.columns = [i.lower() for i in df_agr_predictions.columns]\n",
    "\n",
    "# Join the two dataframes\n",
    "df_lc_prov = df_lc_prov.join(df_agr_predictions.set_index(['region', 'year']), rsuffix='_pred')\n",
    "\n",
    "# Calculate province-level agri GDP\n",
    "df_lc_prov = df_lc_prov.assign(log_agr_p1 = lambda x: x.agr_c1012_top12c12_p1 * x.prov_lc_share,\n",
    "                               log_agr_p2 = lambda x: x.agr_c1012_top12c12_p2 * x.prov_lc_share)\n",
    "\n",
    "# Drop obs for 2000 because there is land cover data\n",
    "df_lc_prov.drop(index=['2000-01-01'], level=1, inplace=True)\n",
    "\n",
    "# Calculate growth rates\n",
    "df_lc_prov_gr = df_lc_prov.reset_index().set_index(['province', 'year'])[['prov_code', 'log_agr_p1', \n",
    "                                                                          'log_agr_p2']].groupby('prov_code').diff() * 100\n",
    "# df_lc_prov_gr.reset_index().to_excel('province-agr-gr.xlsx', index=False)\n",
    "# df_lc_prov_gr.reset_index().groupby('province').mean().reset_index().to_csv('province-agr-gr-avg.csv', index=False)"
   ]
  },
  {
   "cell_type": "markdown",
   "metadata": {
    "hidden": true
   },
   "source": [
    "### Using observed regional GDP"
   ]
  },
  {
   "cell_type": "code",
   "execution_count": 85,
   "metadata": {
    "hidden": true
   },
   "outputs": [],
   "source": [
    "# Export data on observed regional GDP\n",
    "df_observed_agr = pd.read_csv(path + \"data/scratch/data.csv\", index_col=False,\n",
    "                              usecols=['REGION', 'YEAR', 'ZONE_CODE', 'GDP_AGR'], \n",
    "                              parse_dates=['YEAR'])\n",
    "df_observed_agr.columns = [i.lower() for i in df_observed_agr.columns]\n",
    "\n",
    "# Join two dataframes\n",
    "df_gdp_agr_prov = df_lc_prov.join(df_observed_agr.set_index(['region', 'year']))\n",
    "\n",
    "# Calculate province-level non-agri GDP based on NTL shares\n",
    "df_gdp_agr_prov = df_gdp_agr_prov.assign(gdp_agr_prov = lambda x: x.gdp_agr * x.prov_lc_share)"
   ]
  },
  {
   "cell_type": "markdown",
   "metadata": {
    "heading_collapsed": true
   },
   "source": [
    "## Province-level GDP from NTL and Land Cover"
   ]
  },
  {
   "cell_type": "code",
   "execution_count": 137,
   "metadata": {
    "hidden": true
   },
   "outputs": [],
   "source": [
    "# Merge non-agri and agri dataframes\n",
    "df_gdp_prov = df_gdp_nonagr_prov.reset_index().set_index(['province', 'year']).join(df_gdp_agr_prov.reset_index()[df_gdp_agr_prov.reset_index()['year'] > '2000-01-01'].set_index(['province', 'year']), rsuffix='_r')\n",
    "df_gdp_prov = df_gdp_prov[['region', 'reg_id', 'prov_id', 'gdp_nonagr_prov', 'gdp_agr_prov']]\n",
    "\n",
    "# Calculate total province GDP (non-agri + agri)\n",
    "df_gdp_prov = df_gdp_prov.assign(gdp = lambda x: x.gdp_nonagr_prov + x.gdp_agr_prov)\n",
    "\n",
    "# Export to Excel\n",
    "df_gdp_prov.reset_index().to_excel('province-gdp.xlsx', index=False)"
   ]
  }
 ],
 "metadata": {
  "kernelspec": {
   "display_name": "Python 3",
   "language": "python",
   "name": "python3"
  },
  "language_info": {
   "codemirror_mode": {
    "name": "ipython",
    "version": 3
   },
   "file_extension": ".py",
   "mimetype": "text/x-python",
   "name": "python",
   "nbconvert_exporter": "python",
   "pygments_lexer": "ipython3",
   "version": "3.8.5"
  }
 },
 "nbformat": 4,
 "nbformat_minor": 4
}
